{
 "cells": [
  {
   "cell_type": "code",
   "execution_count": 4,
   "metadata": {},
   "outputs": [],
   "source": [
    "%load_ext autoreload\n",
    "%autoreload 2"
   ]
  },
  {
   "cell_type": "code",
   "execution_count": 5,
   "metadata": {},
   "outputs": [],
   "source": [
    "import numpy as np"
   ]
  },
  {
   "cell_type": "code",
   "execution_count": 6,
   "metadata": {},
   "outputs": [],
   "source": [
    "import manim as mn\n",
    "\n",
    "mn.config.verbosity = \"WARNING\"\n",
    "mn.config.media_width = \"50%\""
   ]
  },
  {
   "cell_type": "code",
   "execution_count": 7,
   "metadata": {},
   "outputs": [],
   "source": [
    "from fsd_path_planning.demo.json_demo import load_data_json\n",
    "from pathlib import Path\n",
    "\n",
    "data = list(zip(*load_data_json(Path('fsd_path_planning/demo/fss_19_4_laps.json'), remove_color_info=False)))"
   ]
  },
  {
   "cell_type": "code",
   "execution_count": 30,
   "metadata": {},
   "outputs": [],
   "source": [
    "from fsd_path_planning.utils.math_utils import rotate, angle_from_2d_vector\n",
    "\n",
    "\n",
    "start_position, start_direction, start_cones = data[0]\n",
    "\n",
    "scale_factor = 4\n",
    "\n",
    "cones_relative_to_car = np.row_stack([rotate(c - start_position, -angle_from_2d_vector(start_direction)) for c in start_cones]) / scale_factor\n",
    "\n",
    "# ts = create_de\n",
    "\n",
    "distances_idx_sorted = np.linalg.norm(cones_relative_to_car, axis=1).argsort()\n",
    "\n",
    "cones_relative_to_car = cones_relative_to_car[distances_idx_sorted]"
   ]
  },
  {
   "cell_type": "code",
   "execution_count": 31,
   "metadata": {},
   "outputs": [
    {
     "name": "stderr",
     "output_type": "stream",
     "text": [
      "                                                                                            \r"
     ]
    },
    {
     "data": {
      "text/html": [
       "<video src=\"media/jupyter/RenderFrame@2023-03-23@17-50-21.mp4\" controls autoplay loop style=\"max-width: 50%;\"  >\n",
       "      Your browser does not support the <code>video</code> element.\n",
       "    </video>"
      ],
      "text/plain": [
       "<IPython.core.display.Video object>"
      ]
     },
     "metadata": {},
     "output_type": "display_data"
    }
   ],
   "source": [
    "%%manim -qm RenderFrame\n",
    "\n",
    "\n",
    "class RenderFrame(mn.Scene):\n",
    "    def construct(self):  \n",
    "        cones_to_use = cones_relative_to_car[:]\n",
    "        \n",
    "        circles_cones = [mn.Circle(radius=0.05, color=mn.RED, fill_opacity=0.2) for c in cones_to_use]\n",
    "        self.add(*circles_cones)\n",
    "        shifts = [circle.animate.shift([*cone, 0]) for circle, cone in zip(circles_cones, cones_to_use)]\n",
    "\n",
    "        car_arrow = mn.Arrow(start=[0,0,0], end=[1/scale_factor, 0, 0], color=mn.GREEN)\n",
    "\n",
    "\n",
    "        self.play(*shifts, mn.FadeIn(car_arrow))\n",
    "        self.wait()\n",
    "\n",
    "        \n",
    "        # self.play()\n",
    "\n",
    "\n",
    "        "
   ]
  }
 ],
 "metadata": {
  "kernelspec": {
   "display_name": ".venv",
   "language": "python",
   "name": "python3"
  },
  "language_info": {
   "codemirror_mode": {
    "name": "ipython",
    "version": 3
   },
   "file_extension": ".py",
   "mimetype": "text/x-python",
   "name": "python",
   "nbconvert_exporter": "python",
   "pygments_lexer": "ipython3",
   "version": "3.9.12"
  },
  "orig_nbformat": 4
 },
 "nbformat": 4,
 "nbformat_minor": 2
}
